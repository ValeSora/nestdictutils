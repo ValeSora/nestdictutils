{
 "cells": [
  {
   "cell_type": "markdown",
   "id": "01627423",
   "metadata": {},
   "source": [
    "# Usage examples\n",
    "\n",
    "This notebook provides examples of usage of the `nestdictutils` package."
   ]
  },
  {
   "cell_type": "markdown",
   "id": "4c92526b",
   "metadata": {},
   "source": [
    "First, let's import the `utils` module from the package, which contains all the functions."
   ]
  },
  {
   "cell_type": "code",
   "execution_count": 1,
   "id": "c9807c17",
   "metadata": {},
   "outputs": [],
   "source": [
    "from nestdictutils import utils"
   ]
  },
  {
   "cell_type": "markdown",
   "id": "e9d30607",
   "metadata": {},
   "source": [
    "Then, let's create a nested dictionary to work with. In this case, it will be a dictionary containing the features of a few fantasy characters."
   ]
  },
  {
   "cell_type": "code",
   "execution_count": 5,
   "id": "9d6bef8f",
   "metadata": {},
   "outputs": [],
   "source": [
    "# Create the dictionary\n",
    "chars_dict = \\\n",
    "    {\\\n",
    "     \"Aurelia Silgar\" : \\\n",
    "        {\"class\" : \"Cleric\",\n",
    "         \"race\" : \"Dwarf\",\n",
    "         \"alignmnent\" : \"Chaotic Good\"},\n",
    "     \"Martinus Olsenir\" : \\\n",
    "        {\"class\" : \"Fighter\",\n",
    "         \"race\" : \"Dwarf\",\n",
    "         \"alignment\" : \"Lawful Good\"},\n",
    "     \"Non-playing characters\" : \\\n",
    "        {\"Loton Burmingson\" : \\\n",
    "            {\"class\" : \"Bard\",\n",
    "             \"race\" : \"Human\",\n",
    "             \"alignment\" : \"Lawful Good\"},\n",
    "        },\n",
    "    }"
   ]
  },
  {
   "cell_type": "markdown",
   "id": "d5d9d23c",
   "metadata": {},
   "source": [
    "## Accessing items inside a nested dictionary\n",
    "\n",
    "Suppose we want to retrieve the `\"class\"` of all characters in the dictionary. However, we have characters defined both at the top level of the dictionary (such as `\"Aurelia Silgar\"` and `\"Martinus Olsenir\"`) and inside a sub-dictionary (such as `\"Loton Burmingson\"`). To retrieve all items associated with the `\"class\"` key inside `chars_dict`, we use the `recursive_get_values_from_key` function."
   ]
  },
  {
   "cell_type": "code",
   "execution_count": 3,
   "id": "3db05d66",
   "metadata": {},
   "outputs": [
    {
     "data": {
      "text/plain": [
       "['Cleric', 'Fighter', 'Bard']"
      ]
     },
     "execution_count": 3,
     "metadata": {},
     "output_type": "execute_result"
    }
   ],
   "source": [
    "chars_classes = \\\n",
    "    utils.recursive_get_values_from_key(d = chars_dict,\n",
    "                                        key = \"class\")\n",
    "chars_classes"
   ]
  },
  {
   "cell_type": "markdown",
   "id": "eded2268",
   "metadata": {},
   "source": [
    "However, we may want to retrieve both the `\"class\"` and `\"race\"` of all characters at the same time for convenience. In this case, we can use the `recursive_get_values_from_keys` function, which works with multiple keys at once. The function returns a dictionary mapping each input key to the items found associated with it."
   ]
  },
  {
   "cell_type": "code",
   "execution_count": 4,
   "id": "4980bc90",
   "metadata": {},
   "outputs": [
    {
     "data": {
      "text/plain": [
       "{'class': ['Cleric', 'Fighter', 'Bard'], 'race': ['Dwarf', 'Dwarf', 'Human']}"
      ]
     },
     "execution_count": 4,
     "metadata": {},
     "output_type": "execute_result"
    }
   ],
   "source": [
    "chars_classes_and_races = \\\n",
    "    utils.recursive_get_values_from_keys(d = chars_dict,\n",
    "                                         keys = [\"class\", \"race\"])\n",
    "chars_classes_and_races"
   ]
  },
  {
   "cell_type": "markdown",
   "id": "d4d24531",
   "metadata": {},
   "source": [
    "## Retrieving the \"paths\" to all "
   ]
  }
 ],
 "metadata": {
  "kernelspec": {
   "display_name": "py3.11",
   "language": "python",
   "name": "py3.11"
  },
  "language_info": {
   "codemirror_mode": {
    "name": "ipython",
    "version": 3
   },
   "file_extension": ".py",
   "mimetype": "text/x-python",
   "name": "python",
   "nbconvert_exporter": "python",
   "pygments_lexer": "ipython3",
   "version": "3.11.1"
  }
 },
 "nbformat": 4,
 "nbformat_minor": 5
}
